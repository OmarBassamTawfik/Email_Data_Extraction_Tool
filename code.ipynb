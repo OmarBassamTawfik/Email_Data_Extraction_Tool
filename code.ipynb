{
 "cells": [
  {
   "cell_type": "code",
   "execution_count": 2,
   "metadata": {},
   "outputs": [],
   "source": [
    "import pandas as pd\n",
    "import extract_msg\n",
    "from datetime import datetime\n",
    "import os\n",
    "import re"
   ]
  },
  {
   "cell_type": "code",
   "execution_count": 3,
   "metadata": {},
   "outputs": [],
   "source": [
    "input_folder = r'E:\\Telecom Egypt Internship\\Python\\email_extraction\\data'\n",
    "output_folder = r'E:\\Telecom Egypt Internship\\Python\\email_extraction\\output'"
   ]
  },
  {
   "cell_type": "code",
   "execution_count": 4,
   "metadata": {},
   "outputs": [],
   "source": [
    "data = pd.DataFrame()"
   ]
  },
  {
   "cell_type": "code",
   "execution_count": 5,
   "metadata": {},
   "outputs": [],
   "source": [
    "# for filename in os.listdir(input_folder):\n",
    "#     if filename.endswith('.msg'):\n",
    "#         file_path = os.path.join(input_folder, filename)"
   ]
  },
  {
   "cell_type": "code",
   "execution_count": 6,
   "metadata": {},
   "outputs": [
    {
     "name": "stdout",
     "output_type": "stream",
     "text": [
      "10\n"
     ]
    }
   ],
   "source": [
    "msg = extract_msg.Message(r\"E:\\Telecom Egypt Internship\\Python\\email_extraction\\data\\RE NTT 10 Sites are down IM1643531 is Open.msg\")\n",
    "msg_date = msg.date\n",
    "msg_subj = msg.subject\n",
    "msg_message = msg.body\n",
    "\n",
    "ticket_id = re.search(r'IM[0-9]*[0-9] | INC-*[0-9]*-*[0-9]*', msg_subj).group()\n",
    "\n",
    "sites_num =  re.search(\"(?s)(?<=Number of Sites).*?(?=Affected NEs)\", msg_message).group().strip()\n",
    "print(sites_num)\n",
    "\n",
    "Related_BSCRNC = 0\n",
    "status = 0\n",
    "outage_start = 0\n",
    "outage_end = 0\n",
    "operation_area = 0\n",
    "operation_zone = 0\n",
    "assignment = 0\n",
    "Subcontractor = 0\n",
    "Vendor = 0\n",
    "technology = 0\n",
    "System = 0\n",
    "Subsystem = 0\n",
    "Solution = 0\n",
    "    \n",
    "site_id = 0        "
   ]
  },
  {
   "cell_type": "code",
   "execution_count": 7,
   "metadata": {},
   "outputs": [],
   "source": [
    "# print(msg_message)"
   ]
  },
  {
   "cell_type": "code",
   "execution_count": null,
   "metadata": {},
   "outputs": [],
   "source": []
  }
 ],
 "metadata": {
  "kernelspec": {
   "display_name": "Python 3",
   "language": "python",
   "name": "python3"
  },
  "language_info": {
   "codemirror_mode": {
    "name": "ipython",
    "version": 3
   },
   "file_extension": ".py",
   "mimetype": "text/x-python",
   "name": "python",
   "nbconvert_exporter": "python",
   "pygments_lexer": "ipython3",
   "version": "3.12.0"
  }
 },
 "nbformat": 4,
 "nbformat_minor": 2
}
